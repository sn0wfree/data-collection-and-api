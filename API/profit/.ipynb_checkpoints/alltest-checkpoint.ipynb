{
 "cells": [
  {
   "cell_type": "code",
   "execution_count": 21,
   "metadata": {
    "collapsed": true
   },
   "outputs": [],
   "source": [
    "import sqlite3,copy\n",
    "import pandas as pd\n"
   ]
  },
  {
   "cell_type": "code",
   "execution_count": 125,
   "metadata": {
    "collapsed": true
   },
   "outputs": [],
   "source": [
    "\n",
    "def InitalSqliteConnection(target):\n",
    "\n",
    "    if target != 0:\n",
    "        conn = sqlite3.connect(target)\n",
    "    else:\n",
    "        conn = sqlite3.connect(\":memory:\")\n",
    "\n",
    "    return conn\n",
    "\n",
    "def CollectedTableName(conn):\n",
    "    #collect the name of table\n",
    "    cur = conn.cursor()\n",
    "    cur.execute(\n",
    "        \"select name from sqlite_master where type='table' order by name\")\n",
    "    return [table[0].encode(\"utf-8\") for table in cur.fetchall()]\n",
    "\n",
    "def InitialSelectData(databasefilepath):\n",
    "    \n",
    "    conn = InitalSqliteConnection(databasefilepath)\n",
    "    tables = CollectedTableName(conn)\n",
    "    return tables,conn\n",
    "def ReturnRate(onelist):\n",
    "    \n",
    "    end=copy.deepcopy(onelist)\n",
    "    onelist.pop()\n",
    "    del end[0]\n",
    "    temp = [bb-aa for (aa,bb) in zip(onelist,end)]\n",
    "    temp.insert(0,\"NAN\")\n",
    "    return temp\n",
    "def DetectStatus(mas,prices):\n",
    "    temp =zip(mas,prices)\n",
    "    buy=[]\n",
    "    for ma,price in temp:\n",
    "        if price < ma:\n",
    "            buy.append(1)\n",
    "        else:\n",
    "            buy.append(0)\n",
    "    return buy\n",
    "    \n",
    "\n",
    "def variable2dummy(allll):\n",
    "    temp=[]\n",
    "    for al in allll:\n",
    "        if al >0:\n",
    "            temp.append(1)\n",
    "        else:\n",
    "            temp.append(0)\n",
    "    return temp    "
   ]
  },
  {
   "cell_type": "code",
   "execution_count": 130,
   "metadata": {
    "collapsed": false
   },
   "outputs": [],
   "source": [
    "target='all.db'\n",
    "tables,conn =InitialSelectData(target)"
   ]
  },
  {
   "cell_type": "code",
   "execution_count": 134,
   "metadata": {
    "collapsed": false
   },
   "outputs": [
    {
     "name": "stdout",
     "output_type": "stream",
     "text": [
      "A\n",
      "AA\n",
      "AAC\n",
      "AAL\n",
      "AAN\n",
      "AAOI\n",
      "AAON\n",
      "AAP\n",
      "AAPL\n",
      "AAT\n",
      "AAWW\n",
      "ABAX\n",
      "ABBV\n",
      "ABC\n",
      "ABCB\n",
      "ABCD\n",
      "ABCO\n",
      "ABG\n",
      "ABM\n",
      "ABMD\n",
      "ABT\n",
      "ABTL\n",
      "ABTX\n"
     ]
    },
    {
     "ename": "IndexError",
     "evalue": "pop from empty list",
     "output_type": "error",
     "traceback": [
      "\u001b[0;31m---------------------------------------------------------------------------\u001b[0m",
      "\u001b[0;31mIndexError\u001b[0m                                Traceback (most recent call last)",
      "\u001b[0;32m<ipython-input-134-1052457e3f25>\u001b[0m in \u001b[0;36m<module>\u001b[0;34m()\u001b[0m\n\u001b[1;32m      2\u001b[0m     \u001b[0mdf\u001b[0m \u001b[0;34m=\u001b[0m\u001b[0mpd\u001b[0m\u001b[0;34m.\u001b[0m\u001b[0mread_sql_query\u001b[0m\u001b[0;34m(\u001b[0m\u001b[0;34m\"select * from %s\"\u001b[0m\u001b[0;34m%\u001b[0m\u001b[0mtable\u001b[0m\u001b[0;34m,\u001b[0m\u001b[0mconn\u001b[0m\u001b[0;34m)\u001b[0m\u001b[0;34m\u001b[0m\u001b[0m\n\u001b[1;32m      3\u001b[0m     \u001b[0;32mprint\u001b[0m \u001b[0mtable\u001b[0m\u001b[0;34m\u001b[0m\u001b[0m\n\u001b[0;32m----> 4\u001b[0;31m     \u001b[0mdf\u001b[0m\u001b[0;34m[\u001b[0m\u001b[0;34m'Return'\u001b[0m\u001b[0;34m]\u001b[0m\u001b[0;34m=\u001b[0m\u001b[0mReturnRate\u001b[0m\u001b[0;34m(\u001b[0m\u001b[0mlist\u001b[0m\u001b[0;34m(\u001b[0m\u001b[0mdf\u001b[0m\u001b[0;34m[\u001b[0m\u001b[0;34m'PRC'\u001b[0m\u001b[0;34m]\u001b[0m\u001b[0;34m)\u001b[0m\u001b[0;34m)\u001b[0m\u001b[0;34m\u001b[0m\u001b[0m\n\u001b[0m\u001b[1;32m      5\u001b[0m     \u001b[0mgg\u001b[0m \u001b[0;34m=\u001b[0m\u001b[0mzip\u001b[0m\u001b[0;34m(\u001b[0m\u001b[0mReturnRate\u001b[0m\u001b[0;34m(\u001b[0m\u001b[0mlist\u001b[0m\u001b[0;34m(\u001b[0m\u001b[0mdf\u001b[0m\u001b[0;34m[\u001b[0m\u001b[0;34m'PRC'\u001b[0m\u001b[0;34m]\u001b[0m\u001b[0;34m)\u001b[0m\u001b[0;34m)\u001b[0m\u001b[0;34m,\u001b[0m\u001b[0mlist\u001b[0m\u001b[0;34m(\u001b[0m\u001b[0mdf\u001b[0m\u001b[0;34m[\u001b[0m\u001b[0;34m'TBill1Mo'\u001b[0m\u001b[0;34m]\u001b[0m\u001b[0;34m)\u001b[0m\u001b[0;34m)\u001b[0m\u001b[0;34m\u001b[0m\u001b[0m\n\u001b[1;32m      6\u001b[0m     \u001b[0mbuy\u001b[0m\u001b[0;34m=\u001b[0m\u001b[0mDetectStatus\u001b[0m\u001b[0;34m(\u001b[0m\u001b[0mdf\u001b[0m\u001b[0;34m[\u001b[0m\u001b[0;34m'MA_30'\u001b[0m\u001b[0;34m]\u001b[0m\u001b[0;34m,\u001b[0m\u001b[0mdf\u001b[0m\u001b[0;34m[\u001b[0m\u001b[0;34m'PRC'\u001b[0m\u001b[0;34m]\u001b[0m\u001b[0;34m)\u001b[0m\u001b[0;34m\u001b[0m\u001b[0m\n",
      "\u001b[0;32m<ipython-input-125-cb79eb7d6262>\u001b[0m in \u001b[0;36mReturnRate\u001b[0;34m(onelist)\u001b[0m\n\u001b[1;32m     24\u001b[0m \u001b[0;34m\u001b[0m\u001b[0m\n\u001b[1;32m     25\u001b[0m     \u001b[0mend\u001b[0m\u001b[0;34m=\u001b[0m\u001b[0mcopy\u001b[0m\u001b[0;34m.\u001b[0m\u001b[0mdeepcopy\u001b[0m\u001b[0;34m(\u001b[0m\u001b[0monelist\u001b[0m\u001b[0;34m)\u001b[0m\u001b[0;34m\u001b[0m\u001b[0m\n\u001b[0;32m---> 26\u001b[0;31m     \u001b[0monelist\u001b[0m\u001b[0;34m.\u001b[0m\u001b[0mpop\u001b[0m\u001b[0;34m(\u001b[0m\u001b[0;34m)\u001b[0m\u001b[0;34m\u001b[0m\u001b[0m\n\u001b[0m\u001b[1;32m     27\u001b[0m     \u001b[0;32mdel\u001b[0m \u001b[0mend\u001b[0m\u001b[0;34m[\u001b[0m\u001b[0;36m0\u001b[0m\u001b[0;34m]\u001b[0m\u001b[0;34m\u001b[0m\u001b[0m\n\u001b[1;32m     28\u001b[0m     \u001b[0mtemp\u001b[0m \u001b[0;34m=\u001b[0m \u001b[0;34m[\u001b[0m\u001b[0mbb\u001b[0m\u001b[0;34m-\u001b[0m\u001b[0maa\u001b[0m \u001b[0;32mfor\u001b[0m \u001b[0;34m(\u001b[0m\u001b[0maa\u001b[0m\u001b[0;34m,\u001b[0m\u001b[0mbb\u001b[0m\u001b[0;34m)\u001b[0m \u001b[0;32min\u001b[0m \u001b[0mzip\u001b[0m\u001b[0;34m(\u001b[0m\u001b[0monelist\u001b[0m\u001b[0;34m,\u001b[0m\u001b[0mend\u001b[0m\u001b[0;34m)\u001b[0m\u001b[0;34m]\u001b[0m\u001b[0;34m\u001b[0m\u001b[0m\n",
      "\u001b[0;31mIndexError\u001b[0m: pop from empty list"
     ]
    }
   ],
   "source": [
    "for table in tables:\n",
    "    try:\n",
    "        df =pd.read_sql_query(\"select * from %s\"%table,conn)\n",
    "        print table\n",
    "        df['Return']=ReturnRate(list(df['PRC']))\n",
    "        gg =zip(ReturnRate(list(df['PRC'])),list(df['TBill1Mo']))\n",
    "        buy=DetectStatus(df['MA_30'],df['PRC'])\n",
    "        allll=[]\n",
    "        for b,g in zip(buy,gg):\n",
    "        #print g[b]\n",
    "            allll.append(g[b])\n",
    "        #print g\n",
    "        df['MARE30']=allll\n",
    "\n",
    "\n",
    "        df['MARE30dummy']= variable2dummy(allll)\n",
    "        df=df.dropna()\n",
    "\n",
    "\n",
    "        MAPforbb=[bb-aa for (aa,bb) in zip(list(df['Return']),list(df['MARE30']))]\n",
    "        df['MAP'] =MAPforbb\n",
    "        #print zip(list(df['Return']),list(df['MARE30']))\n",
    "        df['MAPdummy']= variable2dummy(MAPforbb)\n",
    "        df=df.dropna()\n",
    "\n",
    "        df.to_sql(table,InitalSqliteConnection('output_oringal.db'),if_exists='append', index=False)\n",
    "    except Excepation as e:\n",
    "        pass\n"
   ]
  },
  {
   "cell_type": "code",
   "execution_count": null,
   "metadata": {
    "collapsed": false
   },
   "outputs": [],
   "source": []
  },
  {
   "cell_type": "code",
   "execution_count": null,
   "metadata": {
    "collapsed": false
   },
   "outputs": [],
   "source": []
  },
  {
   "cell_type": "code",
   "execution_count": null,
   "metadata": {
    "collapsed": true
   },
   "outputs": [],
   "source": []
  }
 ],
 "metadata": {
  "kernelspec": {
   "display_name": "Python 2",
   "language": "python",
   "name": "python2"
  },
  "language_info": {
   "codemirror_mode": {
    "name": "ipython",
    "version": 2
   },
   "file_extension": ".py",
   "mimetype": "text/x-python",
   "name": "python",
   "nbconvert_exporter": "python",
   "pygments_lexer": "ipython2",
   "version": "2.7.11"
  }
 },
 "nbformat": 4,
 "nbformat_minor": 1
}
