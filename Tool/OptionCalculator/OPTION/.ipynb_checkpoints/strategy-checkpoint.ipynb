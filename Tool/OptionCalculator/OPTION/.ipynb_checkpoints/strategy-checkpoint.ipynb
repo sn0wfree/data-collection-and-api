{
 "cells": [
  {
   "cell_type": "code",
   "execution_count": 3,
   "metadata": {},
   "outputs": [],
   "source": [
    "# -*- coding:utf-8 -*-\n",
    "import datetime\n",
    "import numpy as np\n",
    "import math,time\n",
    "import pandas as pd\n",
    "import scipy.stats as sps\n",
    "%matplotlib inline"
   ]
  },
  {
   "cell_type": "code",
   "execution_count": 185,
   "metadata": {},
   "outputs": [
    {
     "data": {
      "text/plain": [
       "'StrikePrice=2.45 \\nLastCloseUndeylingPrice=2.637\\nmax(LastCloseUndeylingPrice-StrikePrice,0)#CalOutofMoney\\xe8\\x99\\x9a\\xe5\\x80\\xbc\\xe6\\x9c\\x9f\\xe6\\x9d\\x83'"
      ]
     },
     "execution_count": 185,
     "metadata": {},
     "output_type": "execute_result"
    }
   ],
   "source": [
    "class CalPnl():\n",
    "    # this class will help to calculate the profit or Loss of one option contract\n",
    "    def __init__(self):\n",
    "        self.action_code=None\n",
    "        \"\"\"self.CalMargin=CalMargin()\n",
    "        lastDayConSettlementPrice\n",
    "        LastCloseUndeylingPrice\n",
    "        StrikePrice\n",
    "        currentUnderlyingPrice\n",
    "        OptionType,Count,action\"\"\"\n",
    "        self.CalMaxMinChange=CalMaxMinChange()\n",
    "        self.Period=[]\n",
    "        \n",
    "        pass\n",
    "    def __version(self):\n",
    "        version=0.1\n",
    "        return version\n",
    "    def AddCalMargin(self,lastDayConSettlementPrice,LastCloseUndeylingPrice,StrikePrice,currentUnderlyingPrice,OptionType,Count,action,exchangerate=100*100,OptionFormat='E'):\n",
    "        self.CalMargin=CalMargin(lastDayConSettlementPrice,LastCloseUndeylingPrice,StrikePrice,currentUnderlyingPrice,OptionType,Count,action,exchangerate=exchangerate,OptionFormat=OptionFormat)\n",
    "        return self.CalMargin.OpenMarginRule()\n",
    "\n",
    "    def GeneratePeriod(self,High,Low,gap=0.001):\n",
    "        if len(self.Period)==0 or self.Period ==None:\n",
    "            self.Period= np.arange(Low, High, gap)\n",
    "        else:\n",
    "            if isinstance(self.Period,(list,set,tuple,np.array,pd.Series)):\n",
    "                self.Period= givenP\n",
    "           \n",
    "            else:\n",
    "                raise ValueError('Unknown Period Type')\n",
    "        \n",
    "    def MaturityPnLFree(self,b,Strike,currentUnderlyingPrice,ContractNum,action,OptionType,gap=0.001,exchangerate=100*100):\n",
    "        \n",
    "        High=currentUnderlyingPrice*(1+1/gap)\n",
    "        Low=currentUnderlyingPrice*(gap)\n",
    "        self.GeneratePeriod(High,Low,gap)\n",
    "        #pricelist=np.array([currentUnderlyingPrice*(draft/float(w)+1) for draft in xrange(1-w,1+w,1)])\n",
    "        out=[(price,self.CalProfitOrLossofMaturityVersion1(b,Strike,price,ContractNum,action,OptionType,exchangerate=exchangerate)) for price in self.Period]\n",
    "            \n",
    "        return pd.DataFrame(out,columns=['UnderlyingPrice','PnL'])\n",
    "    def MaturityPnLHigh_Low(self,b,Strike,currentUnderlyingPrice,ContractNum,action,OptionType,LastCloseUndeylingPrice,gap=0.001,exchangerate=100*100):\n",
    "        Highchange,Lowchange=self.CalMaxMinChange.getBoundry(LastCloseUndeylingPrice,Strike,OptionType)\n",
    "        High=currentUnderlyingPrice*(1+Highchange)\n",
    "        Low=currentUnderlyingPrice*(1-Highchange)\n",
    "        \"\"\"if float(High-Low) <20.0/n:\n",
    "            gap=float(High-Low)/20\n",
    "        else:\n",
    "            gap=1.0/n\"\"\"\n",
    "        #gap=float(High-Low)/n\n",
    "        #np.arange(Low, High, gap) \n",
    "        #print High,Low\n",
    "        self.GeneratePeriod(High,Low,gap)\n",
    "        out=[(price,self.CalProfitOrLossofMaturityVersion1(b,Strike,price,ContractNum,action,OptionType,exchangerate=exchangerate)) for price in self.Period ]\n",
    "        return pd.DataFrame(out,columns=['UnderlyingPrice','PnL'])\n",
    "        \n",
    "    def CalPnlofMaturityV1(self,BuyorSellPrice,StrikePrice,currentUnderlyingPrice,ContractNum,action,OptionType,exchangerate=100*100):\n",
    "        self.action_code=-1 if action in ['buy','Buy','B','b','BUY'] else 1\n",
    "        if OptionType in ['Put','P','p'] :\n",
    "            perG=max(StrikePrice-currentUnderlyingPrice,0)\n",
    "        elif OptionType in ['Call','C','c']:\n",
    "            perG=max(currentUnderlyingPrice-StrikePrice,0)\n",
    "        else:\n",
    "            raise ValueError('Unknown OptionType: %s'%OptionType)\n",
    "        OptionFee=BuyorSellPrice#RealCost\n",
    "        return ContractNum*exchangerate*self.action_code*(OptionFee-perG)\n",
    "    def CalProfitOrLossofMaturityVersion1(self,BuyorSellPrice,StrikePrice,currentUnderlyingPrice,ContractNum,action,OptionType,exchangerate=100*100):\n",
    "        self.action_code=-1 if action in ['buy','Buy','B','b','BUY'] else 1\n",
    "        if OptionType in ['Put','P','p'] :\n",
    "            if currentUnderlyingPrice<StrikePrice:\n",
    "                #print 'will Execute Put contract'\n",
    "                #step 1 Buy Low market stock\n",
    "                VirtualBuySpendMoney=currentUnderlyingPrice\n",
    "                #step 2 Sell bought stock to the Contract Writer with strike Price\n",
    "                VirtualSellObtainMoney=StrikePrice\n",
    "                G=VirtualSellObtainMoney-VirtualBuySpendMoney\n",
    "            else:\n",
    "                #\n",
    "                G=0\n",
    "            \"\"\"OptionFee=BuyorSellPrice#RealCost\n",
    "            finalProft=ContractNum*exchangerate*(self.action_code*(OptionFee-G))\n",
    "            return finalProft\"\"\"\n",
    "        elif OptionType in ['Call','C','c']:\n",
    "            #print 'Call'\n",
    "            if currentUnderlyingPrice>StrikePrice:\n",
    "                #print 'will Execute Call contract'\n",
    "                #step 1 Buy Low  price to the Contract Writer with strike Price\n",
    "                VirtualBuySpendMoney=StrikePrice\n",
    "\n",
    "                #step 2 Sell High stock \n",
    "                VirtualSellObtainMoney=currentUnderlyingPrice\n",
    "                G=VirtualSellObtainMoney-VirtualBuySpendMoney\n",
    "            else:\n",
    "                G=0\n",
    "        else:\n",
    "            raise ValueError('Unknown OptionType: %s'%OptionType)\n",
    "        OptionFee=BuyorSellPrice#RealCost\n",
    "        finalProft=ContractNum*exchangerate*self.action_code*(OptionFee-G)\n",
    "        return finalProft\n",
    "class CalMaxMinChange():\n",
    "     \n",
    "    def __init__(self):\n",
    "        \"\"\"认购期权最大涨幅＝max｛合约标的前收盘价×0.5%，min [（2×合约标的前收盘价－行权价格），合约标的前收盘价]×10％｝\n",
    "        认购期权最大跌幅＝合约标的前收盘价×10％\n",
    "        认沽期权最大涨幅＝max｛行权价格×0.5%，min [（2×行权价格－合约标的前收盘价），合约标的前收盘价]×10％｝\n",
    "        认沽期权最大跌幅＝合约标的前收盘价×10％\"\"\"\n",
    "        pass\n",
    "    def getBoundry(self,LastCloseUndeylingPrice,StrikePrice,OptionType):\n",
    "        if OptionType in ['Call','C','c']:\n",
    "            return self.getCallBoundry(LastCloseUndeylingPrice,StrikePrice)\n",
    "        elif OptionType in ['Put','P','p']:\n",
    "            return self.getPutBoundry(LastCloseUndeylingPrice,StrikePrice)\n",
    "        else:\n",
    "            raise ValueError('Unknown OptionType: %s'%OptionType)\n",
    "    def getCallBoundry(self,LastCloseUndeylingPrice,StrikePrice):\n",
    "        CallHigh=max(LastCloseUndeylingPrice*(0.5/100),(min(2*LastCloseUndeylingPrice-StrikePrice,LastCloseUndeylingPrice*0.1))*0.1)\n",
    "        CallLow =LastCloseUndeylingPrice*0.1\n",
    "        return CallHigh,CallLow\n",
    "    def getPutBoundry(self,LastCloseUndeylingPrice,StrikePrice):\n",
    "        PutHigh=max(StrikePrice*(0.5/100),(min(2*StrikePrice-LastCloseUndeylingPrice,LastCloseUndeylingPrice))*0.1)\n",
    "        PutLow =LastCloseUndeylingPrice*0.1\n",
    "        return PutHigh,PutLow\n",
    "    \n",
    "class CalMargin():\n",
    "    #this class will calculate the Open Margin  and Maintain Margin\n",
    "\n",
    "    def __init__(self,lastDayConSettlementPrice,LastCloseUndeylingPrice,StrikePrice,currentUnderlyingPrice,OptionType,Count,action,exchangerate=100*100,OptionFormat='E'):\n",
    "        self.lastDayConSettlementPrice=lastDayConSettlementPrice\n",
    "        self.LastCloseUndeylingPrice=LastCloseUndeylingPrice\n",
    "        self.OptionType=OptionType\n",
    "        self.StrikePrice=StrikePrice\n",
    "        self.currentUnderlyingPrice=currentUnderlyingPrice\n",
    "        self.action=action\n",
    "        self.Count=Count*exchangerate\n",
    "        self.OptionClss={'50ETF':{'CallOps1':0.12,'CallOps2':0.07,'PutOps1':0.12,'PutOps2':0.07}}\n",
    "        \n",
    "       \n",
    "    def __version(self):\n",
    "        version=0.1\n",
    "        return version\n",
    "    def CalOutofMoney(self):\n",
    "        #认购期权虚值=Max（行权价-合约标的前收盘价，0）\n",
    "        #认沽期权虚值=max（合约标的前收盘价-行权价，0）。\n",
    "        if self.OptionType in ['Call','C','c']:\n",
    "            return max(self.StrikePrice-self.LastCloseUndeylingPrice,0)\n",
    "        elif self.OptionType in ['Put','P','p']:\n",
    "            return max(self.LastCloseUndeylingPrice-self.StrikePrice,0)\n",
    "        else:\n",
    "            raise ValueError('Unknown OptionType: %s'%self.OptionType)\n",
    "    def OpenMarginRule(self):\n",
    "        CallOps1=self.OptionClss['50ETF']['CallOps1']\n",
    "        CallOps2=self.OptionClss['50ETF']['CallOps2']\n",
    "        PutOps1=self.OptionClss['50ETF']['PutOps1']\n",
    "        PutOps2=self.OptionClss['50ETF']['PutOps2']\n",
    "        \n",
    "        \"\"\"认购期权义务仓开仓保证金＝[合约前结算价+Max（12%×合约标的前收盘价-认购期权虚值，7%×合约标的前收盘价）]×合约单位\n",
    "        认沽期权义务仓开仓保证金＝Min[合约前结算价+Max（12%×合约标的前收盘价-认沽期权虚值，7%×行权价格），行权价格] ×合约单位\"\"\"\n",
    "\n",
    "        if self.action=='Buy':\n",
    "            return 0\n",
    "        else:\n",
    "            if self.OptionType in ['Call','C','c']:\n",
    "                OutofMoney=max(self.StrikePrice-self.LastCloseUndeylingPrice,0)\n",
    "                return self.Count*(self.lastDayConSettlementPrice+max(CallOps1*self.LastCloseUndeylingPrice-OutofMoney,CallOps2*self.LastCloseUndeylingPrice))\n",
    "            elif self.OptionType in ['Put','P','p']:\n",
    "                OutofMoney= max(self.LastCloseUndeylingPrice-self.StrikePrice,0)\n",
    "                #print OutofMoney,self.lastDayConSettlementPrice,self.LastCloseUndeylingPrice,self.StrikePrice,PutOps1,PutOps2,1*100*100*min(0.0014+max(0.12*2.637-OutofMoney,0.07*2.45),2.45)\n",
    "                #print  self.Count*min(self.lastDayConSettlementPrice+max(PutOps1*self.LastCloseUndeylingPrice-OutofMoney,PutOps1*self.StrikePrice),self.StrikePrice)\n",
    "                #print  self.Count*min(self.lastDayConSettlementPrice+max(PutOps1*self.LastCloseUndeylingPrice-OutofMoney,PutOps2*self.StrikePrice),self.StrikePrice)\n",
    "                return self.Count*min(self.lastDayConSettlementPrice+max(PutOps1*self.LastCloseUndeylingPrice-OutofMoney,PutOps2*self.StrikePrice),self.StrikePrice)\n",
    "\n",
    "            else:\n",
    "                raise ValueError('Unknown OptionType: %s'%self.OptionType)\n",
    "        \n",
    "    def MaintainMarginRule(self,CloseUndeylingPrice,ToDayConSettlementPrice):\n",
    "        self.CloseUndeylingPrice=CloseUndeylingPrice\n",
    "        self.ToDayConSettlementPrice=ToDayConSettlementPrice\n",
    "        CallOps1=self.OptionClss['50ETF']['CallOps1']\n",
    "        CallOps2=self.OptionClss['50ETF']['CallOps2']\n",
    "        PutOps1=self.OptionClss['50ETF']['PutOps1']\n",
    "        PutOps2=self.OptionClss['50ETF']['PutOps2']\n",
    "        \n",
    "        \n",
    "        \"\"\"\n",
    "        认购期权义务仓维持保证金＝[合约结算价+Max（12%×合约标的收盘价-认购期权虚值，7%×合约标的收盘价）]×合约单位\n",
    "        认沽期权义务仓维持保证金＝Min[合约结算价 +Max（12%×合标的收盘价-认沽期权虚值，7%×行权价格），行权价格]×合约单位\n",
    "        \"\"\"\n",
    "        if self.action=='Buy':\n",
    "            return 0\n",
    "        else:\n",
    "            if self.OptionType in ['Call','C','c']:\n",
    "                OutofMoney=max(self.StrikePrice-self.CloseUndeylingPrice,0)\n",
    "                #CallOps1=0.12\n",
    "                #CallOps2=0.07\n",
    "                return self.Count*(self.ToDayConSettlementPrice+max(CallOps1*self.CloseUndeylingPrice-OutofMoney,CallOps2*self.CloseUndeylingPrice))\n",
    "            elif self.OptionType in ['Put','P','p']:\n",
    "                OutofMoney= max(self.CloseUndeylingPrice-self.StrikePrice,0)\n",
    "                return self.Count*min(self.ToDayConSettlementPrice+max(PutOps1*self.CloseUndeylingPrice-OutofMoney,PutOps2*self.StrikePrice),self.StrikePrice)\n",
    "            else:\n",
    "                raise ValueError('Unknown OptionType: %s'%self.OptionType)\n",
    "                \n",
    "\"\"\"StrikePrice=2.45 \n",
    "LastCloseUndeylingPrice=2.637\n",
    "max(LastCloseUndeylingPrice-StrikePrice,0)#CalOutofMoney虚值期权\"\"\"\n",
    "\n"
   ]
  },
  {
   "cell_type": "code",
   "execution_count": 208,
   "metadata": {},
   "outputs": [],
   "source": [
    "class Strategy():\n",
    "    def __init__(self):\n",
    "        pass\n",
    "    def createCombination(self,call,put,underlying):\n",
    "        pass\n",
    "    def StrategyCreator(self):\n",
    "        pass\n",
    "class Bridge():\n",
    "    def __init__(self):\n",
    "        pass\n",
    "    def api(self,cls):\n",
    "        print cls.__class__.__name__\n",
    "        \n",
    "        return dir(cls)\n",
    "    \n",
    "        \n",
    "\n",
    "class ItemContainer():\n",
    "    def __init__(self,itemType,itemTradingDirect):\n",
    "        self.itemType=itemType#Underlying;Call ;Put\n",
    "        #self.itemNum=itemNum#int\n",
    "        self.itemTradingDirect=itemTradingDirect#Buy,Sell\n",
    "        self.api=Bridge()\n",
    "        #self.parameter={}\n",
    "        pass\n",
    "    def AUTO(self,kwarg):\n",
    "        self.__getParameters(OparmsDict=dict(kwarg))\n",
    "        return self.__CalPnlAuto()\n",
    "    def __getParameters(self,OparmsDict=None,**kwarg):\n",
    "        #self.parameter.update(kwarg)\n",
    "        if OparmsDict != None and isinstance(OparmsDict,dict):\n",
    "            for k,v in OparmsDict.items():\n",
    "                setattr(self,'%s'%k,v)\n",
    "        else:\n",
    "            pass\n",
    "        for k,v in kwarg.items():\n",
    "            setattr(self,'%s'%k,v)\n",
    "    \n",
    "    def __checkAttr(self):\n",
    "        if self.itemType in ('Put','Call','Option'):\n",
    "            for p in ['BSPrice','Strike','CurrentUnderlyingPrice','ContractNum','Action','OptionType','LastCloseUndeylingPrice']:\n",
    "                getattr(self,p)\n",
    "        elif self.itemType =='Underlying':\n",
    "            for p in ['BSPrice','ContractNum','Action','High','Low']:\n",
    "                getattr(self,p)\n",
    "    def unified_Period(self,period):\n",
    "        \n",
    "    def __CalPnlAuto(self):\n",
    "        self.__checkAttr()#self check variables\n",
    "        if self.itemType in ('Call','Put','c','p','C','p','Option'):\n",
    "            #CPL=self.api.api.CalPnl()\n",
    "            CPL=CalPnl()#import Profit&Loss function\n",
    "            \n",
    "            #import function\n",
    "            b=self.BSPrice\n",
    "            Strike=self.Strike\n",
    "            currentUnderlyingPrice=self.CurrentUnderlyingPrice\n",
    "            ContractNum=self.ContractNum\n",
    "            action=self.Action\n",
    "            OptionType=self.OptionType\n",
    "            LastCloseUndeylingPrice=self.LastCloseUndeylingPrice\n",
    "            return CPL.MaturityPnLHigh_Low(b,Strike,currentUnderlyingPrice,ContractNum,action,OptionType,LastCloseUndeylingPrice,w=3,n=1000,exchangerate=100*100)\n",
    "        elif self.itemType == 'Underlying':\n",
    "            n=1000\n",
    "            action_code=-1 if self.Action in ['buy','Buy','B','b','BUY'] else 1\n",
    "            \n",
    "            gap=float(self.High - self.Low)/n\n",
    "            \n",
    "            pnl=[(price,action_code*(self.BSPrice-price) )    for price in np.arange(self.Low,self.High,gap)]\n",
    "            #print pnl,gap,self.High,self.Low\n",
    "            return pd.DataFrame(pnl,columns=['UnderlyingPrice','PnL'])"
   ]
  },
  {
   "cell_type": "code",
   "execution_count": 215,
   "metadata": {},
   "outputs": [],
   "source": [
    "Underlyingdict={'BSPrice':2.637,'ContractNum':1,'Action':'Buy','High':2.637*(1+0.2),'Low':2.637*(1-0.2)}\n",
    "\n",
    "Optionparametersdict={'BSPrice':0.1037,'Strike':2.651,'CurrentUnderlyingPrice':2.637,'ContractNum':1,\n",
    "'Action':'Buy','OptionType':'Call','LastCloseUndeylingPrice':2.637}\n",
    "UB=ItemContainer('Underlying','Buy').AUTO(Underlyingdict)\n",
    "\n",
    "#Option._ItemContainer__getParameters(Underlyingdict)\n",
    "#Option._ItemContainer__CalPnlAuto().plot(x='UnderlyingPrice',y='PnL')\n",
    "\n",
    "#-------------------------------\n",
    "Option=ItemContainer('Call','Buy')\n",
    "#Option._ItemContainer__getParameters(Optionparametersdict)\n",
    "#Option._ItemContainer__CalPnlAuto().plot(x='UnderlyingPrice',y='PnL')\n",
    "#Option._ItemContainer__CalPnlAuto()\n",
    "CS=ItemContainer('Call','Sell').AUTO(Optionparametersdict)"
   ]
  },
  {
   "cell_type": "code",
   "execution_count": 218,
   "metadata": {},
   "outputs": [
    {
     "data": {
      "text/plain": [
       "(1000, 2)"
      ]
     },
     "execution_count": 218,
     "metadata": {},
     "output_type": "execute_result"
    }
   ],
   "source": [
    "UB.shape"
   ]
  },
  {
   "cell_type": "code",
   "execution_count": 219,
   "metadata": {},
   "outputs": [
    {
     "data": {
      "text/plain": [
       "(1000, 2)"
      ]
     },
     "execution_count": 219,
     "metadata": {},
     "output_type": "execute_result"
    }
   ],
   "source": [
    "CS.shape"
   ]
  },
  {
   "cell_type": "code",
   "execution_count": 139,
   "metadata": {},
   "outputs": [
    {
     "data": {
      "text/plain": [
       "['Action',\n",
       " 'BSPrice',\n",
       " 'ContractNum',\n",
       " 'CurrentUnderlyingPrice',\n",
       " 'LastCloseUndeylingPrice',\n",
       " 'OptionType',\n",
       " 'Strike',\n",
       " '_ItemContainer__CalPnlAuto',\n",
       " '_ItemContainer__checkAttr',\n",
       " '_ItemContainer__getParameters',\n",
       " '__doc__',\n",
       " '__init__',\n",
       " '__module__',\n",
       " 'api',\n",
       " 'itemTradingDirect',\n",
       " 'itemType']"
      ]
     },
     "execution_count": 139,
     "metadata": {},
     "output_type": "execute_result"
    }
   ],
   "source": [
    "dir(Option)"
   ]
  },
  {
   "cell_type": "code",
   "execution_count": 133,
   "metadata": {},
   "outputs": [
    {
     "ename": "AttributeError",
     "evalue": "class ItemContainer has no attribute '__class__'",
     "output_type": "error",
     "traceback": [
      "\u001b[0;31m---------------------------------------------------------------------------\u001b[0m",
      "\u001b[0;31mAttributeError\u001b[0m                            Traceback (most recent call last)",
      "\u001b[0;32m<ipython-input-133-eb15a4a7a4af>\u001b[0m in \u001b[0;36m<module>\u001b[0;34m()\u001b[0m\n\u001b[1;32m      1\u001b[0m \u001b[0mb\u001b[0m\u001b[0;34m=\u001b[0m\u001b[0mBridge\u001b[0m\u001b[0;34m(\u001b[0m\u001b[0;34m)\u001b[0m\u001b[0;34m\u001b[0m\u001b[0m\n\u001b[0;32m----> 2\u001b[0;31m \u001b[0mb\u001b[0m\u001b[0;34m.\u001b[0m\u001b[0mapi\u001b[0m\u001b[0;34m(\u001b[0m\u001b[0mItemContainer\u001b[0m\u001b[0;34m)\u001b[0m\u001b[0;34m\u001b[0m\u001b[0m\n\u001b[0m",
      "\u001b[0;32m<ipython-input-132-a7edab3e3aff>\u001b[0m in \u001b[0;36mapi\u001b[0;34m(self, cls)\u001b[0m\n\u001b[1;32m     10\u001b[0m         \u001b[0;32mpass\u001b[0m\u001b[0;34m\u001b[0m\u001b[0m\n\u001b[1;32m     11\u001b[0m     \u001b[0;32mdef\u001b[0m \u001b[0mapi\u001b[0m\u001b[0;34m(\u001b[0m\u001b[0mself\u001b[0m\u001b[0;34m,\u001b[0m\u001b[0mcls\u001b[0m\u001b[0;34m)\u001b[0m\u001b[0;34m:\u001b[0m\u001b[0;34m\u001b[0m\u001b[0m\n\u001b[0;32m---> 12\u001b[0;31m         \u001b[0;32mprint\u001b[0m \u001b[0mcls\u001b[0m\u001b[0;34m.\u001b[0m\u001b[0m__class__\u001b[0m\u001b[0;34m.\u001b[0m\u001b[0m__name__\u001b[0m\u001b[0;34m\u001b[0m\u001b[0m\n\u001b[0m\u001b[1;32m     13\u001b[0m \u001b[0;34m\u001b[0m\u001b[0m\n\u001b[1;32m     14\u001b[0m         \u001b[0;32mreturn\u001b[0m \u001b[0mdir\u001b[0m\u001b[0;34m(\u001b[0m\u001b[0mcls\u001b[0m\u001b[0;34m)\u001b[0m\u001b[0;34m\u001b[0m\u001b[0m\n",
      "\u001b[0;31mAttributeError\u001b[0m: class ItemContainer has no attribute '__class__'"
     ]
    }
   ],
   "source": [
    "b=Bridge()\n",
    "b.api(ItemContainer)"
   ]
  },
  {
   "cell_type": "code",
   "execution_count": 130,
   "metadata": {},
   "outputs": [],
   "source": [
    "import sys\n",
    "class Hello():\n",
    " \n",
    "    def hello(self):\n",
    "        print('the name of method is ## {} ##'.format(sys._getframe().f_code.co_name))\n",
    "        print('the name of class is ## {} ##'.format(self.__class__.__name__))\n"
   ]
  },
  {
   "cell_type": "code",
   "execution_count": 131,
   "metadata": {},
   "outputs": [
    {
     "name": "stdout",
     "output_type": "stream",
     "text": [
      "the name of method is ## hello ##\n",
      "the name of class is ## Hello ##\n"
     ]
    }
   ],
   "source": [
    "h = Hello()\n",
    "h.hello()"
   ]
  },
  {
   "cell_type": "code",
   "execution_count": 221,
   "metadata": {},
   "outputs": [
    {
     "data": {
      "text/plain": [
       "0"
      ]
     },
     "execution_count": 221,
     "metadata": {},
     "output_type": "execute_result"
    }
   ],
   "source": [
    "len([])"
   ]
  },
  {
   "cell_type": "code",
   "execution_count": null,
   "metadata": {},
   "outputs": [],
   "source": []
  }
 ],
 "metadata": {
  "kernelspec": {
   "display_name": "Python 2",
   "language": "python",
   "name": "python2"
  },
  "language_info": {
   "codemirror_mode": {
    "name": "ipython",
    "version": 2
   },
   "file_extension": ".py",
   "mimetype": "text/x-python",
   "name": "python",
   "nbconvert_exporter": "python",
   "pygments_lexer": "ipython2",
   "version": "2.7.14"
  }
 },
 "nbformat": 4,
 "nbformat_minor": 2
}
