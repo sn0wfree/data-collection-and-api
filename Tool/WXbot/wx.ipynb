{
 "cells": [
  {
   "cell_type": "code",
   "execution_count": 1,
   "metadata": {},
   "outputs": [],
   "source": [
    "# -*- coding:utf-8 -*-\n",
    "#\n",
    "#\n",
    "#\n",
    "#from flask import Flask, request, make_response\n",
    "import hashlib\n",
    "import json\n",
    "import sys\n",
    "import time,datetime\n",
    "import xml.etree.ElementTree as ET\n",
    "import requests\n",
    "\n",
    "\n",
    "\n",
    "sys.stdout = open('/dev/stdout', 'w')\n",
    "\n",
    "#from dispatcher import *"
   ]
  },
  {
   "cell_type": "code",
   "execution_count": 40,
   "metadata": {},
   "outputs": [],
   "source": [
    "class ConnectWXServer():\n",
    "    def __init__(self,APPID,APPSECRET):\n",
    "        self.APPID=APPID\n",
    "        self.APPSECRET=APPSECRET\n",
    "        \n",
    "    def getAccess_Token(self,APPID,APPSECRET):\n",
    "        requesturl = 'https://api.weixin.qq.com/cgi-bin/token?grant_type=client_credential&appid=%s&secret=%s' % (\n",
    "            APPID, APPSECRET)\n",
    "        temp=requests.get(requesturl).json()\n",
    "        if 'errcode' in temp.keys():\n",
    "            raise ValueError('%s'%temp['errcode'])\n",
    "        elif 'access_token' in temp.keys():\n",
    "            return temp\n",
    "        else:\n",
    "            raise ValueError('Unknown:%s'%str(temp))\n",
    "            #{\"errcode\":40013,\"errmsg\":\"invalid appid\"}\n",
    "    def getserverIP(self,Access_Token,expires_in):\n",
    "        if time.time()>expires_in:\n",
    "            #raise ValueError('the Access Token expired,please request new one')\n",
    "            print ('the Access Token expired,please request new one')\n",
    "            expire_time=time.time()\n",
    "            d=self.getAccess_Token(self.APPID,self.APPSECRET)\n",
    "            return self.getserverIP(d['access_token'],d['expires_in']+expire_time)\n",
    "                \n",
    "            \n",
    "        else:\n",
    "            serverIPurl='https://api.weixin.qq.com/cgi-bin/getcallbackip?access_token=%s'%Access_Token\n",
    "            returnvalue= requests.get(serverIPurl).json()\n",
    "            #print returnvalue.keys()\n",
    "            if 'ip_list' in returnvalue.keys() and len(returnvalue['ip_list'])>0:\n",
    "                return returnvalue['ip_list']\n",
    "            elif 'errmsg' in returnvalue.keys():\n",
    "                raise ValueError('%s'%returnvalue['errcode'])\n",
    "                #{\"errcode\":40013,\"errmsg\":\"invalid appid\"}\n",
    "    def connect(self,APPID,APPSECRET):\n",
    "        try:\n",
    "            expire_time=time.time()\n",
    "            response=self.getAccess_Token(APPID,APPSECRET)\n",
    "            ACCESS_TOKEN=response['access_token']\n",
    "            expires_in=expire_time+response['expires_in']\n",
    "            ip_list=self.getserverIP(ACCESS_TOKEN,expires_in)\n",
    "            return ip_list\n",
    "        except ValueError as e:\n",
    "            if e.startswith('invalid ip'):\n",
    "                print e\n",
    "            \n",
    "            \n",
    "        \n",
    "                \n",
    "                \n",
    "\n",
    "        \n",
    "        \n",
    "        "
   ]
  },
  {
   "cell_type": "code",
   "execution_count": 42,
   "metadata": {},
   "outputs": [
    {
     "data": {
      "text/plain": [
       "{u'access_token': u'8_3XVgOv7K_wZOohJnz8yA4qd_o3GWsPOuwqwfzfoHkm3e079riV19kqb_gBYP8wnJphqyxg6ZGFWQhBSkIF4KL3HWMFfB189Sk3MARLmZoljNCfQ69ouTjiPu6aYmE97wcQZZItLvo2RyVmCIEBAcAEALIH',\n",
       " u'expires_in': 7199}"
      ]
     },
     "execution_count": 42,
     "metadata": {},
     "output_type": "execute_result"
    }
   ],
   "source": [
    "APPID = 'wxbc93a242f41c0314'  # app ID\n",
    "APPSECRET = '9c5100a4110e741897474140b873f867'  # secret\n",
    "CWX=ConnectWXServer(APPID,APPSECRET)\n",
    "CWX.connect(APPID,APPSECRET)\n",
    "\n",
    "CWX.getAccess_Token(APPID,APPSECRET)"
   ]
  },
  {
   "cell_type": "code",
   "execution_count": 53,
   "metadata": {},
   "outputs": [
    {
     "ename": "KeyError",
     "evalue": "u'access_token'",
     "output_type": "error",
     "traceback": [
      "\u001b[0;31m---------------------------------------------------------------------------\u001b[0m",
      "\u001b[0;31mKeyError\u001b[0m                                  Traceback (most recent call last)",
      "\u001b[0;32m<ipython-input-53-287c5d018296>\u001b[0m in \u001b[0;36m<module>\u001b[0;34m()\u001b[0m\n\u001b[0;32m----> 1\u001b[0;31m \u001b[0mACCESS_TOKEN\u001b[0m\u001b[0;34m=\u001b[0m\u001b[0mreturndict\u001b[0m\u001b[0;34m[\u001b[0m\u001b[0;34mu'access_token'\u001b[0m\u001b[0;34m]\u001b[0m\u001b[0;34m\u001b[0m\u001b[0m\n\u001b[0m\u001b[1;32m      2\u001b[0m \u001b[0mexpires_in\u001b[0m\u001b[0;34m=\u001b[0m\u001b[0mexpire_time\u001b[0m\u001b[0;34m+\u001b[0m\u001b[0mreturndict\u001b[0m\u001b[0;34m[\u001b[0m\u001b[0;34mu'expires_in'\u001b[0m\u001b[0;34m]\u001b[0m\u001b[0;34m\u001b[0m\u001b[0m\n\u001b[1;32m      3\u001b[0m \u001b[0mgetserverIP\u001b[0m\u001b[0;34m(\u001b[0m\u001b[0mACCESS_TOKEN\u001b[0m\u001b[0;34m,\u001b[0m\u001b[0mexpires_in\u001b[0m\u001b[0;34m)\u001b[0m\u001b[0;34m\u001b[0m\u001b[0m\n",
      "\u001b[0;31mKeyError\u001b[0m: u'access_token'"
     ]
    }
   ],
   "source": [
    "ACCESS_TOKEN=returndict[u'access_token']\n",
    "expires_in=expire_time+returndict[u'expires_in']\n",
    "getserverIP(ACCESS_TOKEN,expires_in)"
   ]
  },
  {
   "cell_type": "code",
   "execution_count": 54,
   "metadata": {},
   "outputs": [],
   "source": [
    "print ACCESS_TOKEN"
   ]
  },
  {
   "cell_type": "code",
   "execution_count": 31,
   "metadata": {},
   "outputs": [],
   "source": [
    "a='invalid ip 203.156.236.171, not in whitelist hint: [vFaKLa01673054]'"
   ]
  },
  {
   "cell_type": "code",
   "execution_count": 32,
   "metadata": {},
   "outputs": [
    {
     "data": {
      "text/plain": [
       "True"
      ]
     },
     "execution_count": 32,
     "metadata": {},
     "output_type": "execute_result"
    }
   ],
   "source": [
    "a.startswith('invalid ip')"
   ]
  },
  {
   "cell_type": "code",
   "execution_count": null,
   "metadata": {},
   "outputs": [],
   "source": []
  }
 ],
 "metadata": {
  "kernelspec": {
   "display_name": "Python 2",
   "language": "python",
   "name": "python2"
  },
  "language_info": {
   "codemirror_mode": {
    "name": "ipython",
    "version": 2
   },
   "file_extension": ".py",
   "mimetype": "text/x-python",
   "name": "python",
   "nbconvert_exporter": "python",
   "pygments_lexer": "ipython2",
   "version": "2.7.14"
  }
 },
 "nbformat": 4,
 "nbformat_minor": 2
}
